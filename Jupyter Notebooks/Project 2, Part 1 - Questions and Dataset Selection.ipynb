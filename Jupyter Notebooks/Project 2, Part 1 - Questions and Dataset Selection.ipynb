{
 "cells": [
  {
   "cell_type": "markdown",
   "id": "066a855c-09bd-4d80-b6d7-63c76948335f",
   "metadata": {},
   "source": [
    "# Project #2, Part 1: Questions and Dataset Selection  \n",
    "**Author**: Maricarl Sibal  \n",
    "**Date**: April 2, 2025  \n",
    "\n",
    "This notebook outlines the planning and dataset selection process for **Project 2**. It includes:\n",
    "\n",
    "- A curated set of international recipes from AllRecipes.com  \n",
    "- A list of data-driven questions to guide the analysis  \n",
    "- A structured approach for web scraping using JSON-LD metadata  \n",
    "\n",
    "The objective is to establish a clear and ethical foundation for data extraction and exploration in the next phases of the project."
   ]
  },
  {
   "cell_type": "markdown",
   "id": "28895d22-bdf0-488d-8d39-55c0ae41b5fc",
   "metadata": {},
   "source": [
    "## Source Website\n",
    "The dataset for this project will be sourced from **[AllRecipes.com](https://www.allrecipes.com)**, a widely used online platform offering detailed content on a broad range of international dishes.  \n",
    "\n",
    "Each recipe page includes structured metadata, which makes the site well-suited for programmatic data extraction."
   ]
  },
  {
   "cell_type": "code",
   "execution_count": 4,
   "id": "ab291cc5-7ec0-45e3-916a-f1fbadde396a",
   "metadata": {},
   "outputs": [],
   "source": [
    "# Source website for recipe data\n",
    "website = \"https://www.allrecipes.com\""
   ]
  },
  {
   "cell_type": "markdown",
   "id": "625c1dd3-da50-495c-9e2d-19d1e94dd57e",
   "metadata": {},
   "source": [
    "## Selected Recipe URLs\n",
    "The following five recipe pages were selected to represent a diverse set of international cuisines. These pages are content-rich and contain structured metadata embedded in JSON-LD format."
   ]
  },
  {
   "cell_type": "code",
   "execution_count": 6,
   "id": "15e884d6-5b57-43a2-b0cd-f6e7b636cdae",
   "metadata": {},
   "outputs": [
    {
     "data": {
      "text/plain": [
       "{'Traditional Filipino Lumpia': 'https://www.allrecipes.com/recipe/35151/traditional-filipino-lumpia/',\n",
       " 'Beef Bulgogi': 'https://www.allrecipes.com/recipe/100606/beef-bulgogi/',\n",
       " 'Miso Soup': 'https://www.allrecipes.com/recipe/13107/miso-soup/',\n",
       " 'Bánh Mì': 'https://www.allrecipes.com/recipe/187342/banh-mi/',\n",
       " 'Spanish Paella': 'https://www.allrecipes.com/recipe/12728/paella-i/'}"
      ]
     },
     "execution_count": 6,
     "metadata": {},
     "output_type": "execute_result"
    }
   ],
   "source": [
    "# Dictionary of international recipe URLs selected for scraping\n",
    "urls = {\n",
    "    \"Traditional Filipino Lumpia\": \"https://www.allrecipes.com/recipe/35151/traditional-filipino-lumpia/\",\n",
    "    \"Beef Bulgogi\": \"https://www.allrecipes.com/recipe/100606/beef-bulgogi/\",\n",
    "    \"Miso Soup\": \"https://www.allrecipes.com/recipe/13107/miso-soup/\",\n",
    "    \"Bánh Mì\": \"https://www.allrecipes.com/recipe/187342/banh-mi/\",\n",
    "    \"Spanish Paella\": \"https://www.allrecipes.com/recipe/12728/paella-i/\"\n",
    "}\n",
    "\n",
    "# Display selected URLs\n",
    "urls"
   ]
  },
  {
   "cell_type": "markdown",
   "id": "9fafeee8-aaef-42a0-82fc-4c738372698d",
   "metadata": {},
   "source": [
    "## Proposed Data Science Questions\n",
    "The following data-driven questions are designed to support meaningful and comparative analysis across international recipes. They focus on ingredient complexity, preparation time, user engagement, nutritional content, and popularity.\n",
    "\n",
    "What is the average number of ingredients used in these recipes?\n",
    "- Helps assess the relative complexity of each dish.\n",
    "\n",
    "How does the total preparation time (prep + cook) vary across different cuisines?\n",
    "- Useful for comparing effort and cooking time across cultures.\n",
    "\n",
    "What is the relationship between user rating and total preparation time?\n",
    "- Investigates whether quick or slow recipes are rated more favorably.\n",
    "\n",
    "How do the nutritional profiles (e.g., calories, fat, protein) differ among these dishes?\n",
    "- Enables a comparison of health-related aspects of different cuisines.\n",
    "\n",
    "Which recipes appear to be more popular based on the number of user reviews?\n",
    "- Popularity can be an indirect indicator of accessibility and appeal."
   ]
  },
  {
   "cell_type": "code",
   "execution_count": 8,
   "id": "6d43c5d8-41dc-4bf3-bb23-760fd9b18408",
   "metadata": {},
   "outputs": [
    {
     "name": "stdout",
     "output_type": "stream",
     "text": [
      "1. What is the average number of ingredients used in these recipes?\n",
      "2. How does the total preparation time (including both prep and cook time) vary across different cuisines?\n",
      "3. What is the relationship between user rating and total preparation time?\n",
      "4. How do the nutritional profiles (e.g., calories, fat, protein) differ among these dishes?\n",
      "5. Which recipes appear to be more popular based on the number of user reviews?\n"
     ]
    }
   ],
   "source": [
    "# List of questions for analysis\n",
    "questions = [\n",
    "    \"1. What is the average number of ingredients used in these recipes?\",\n",
    "    \"2. How does the total preparation time (including both prep and cook time) vary across different cuisines?\",\n",
    "    \"3. What is the relationship between user rating and total preparation time?\",\n",
    "    \"4. How do the nutritional profiles (e.g., calories, fat, protein) differ among these dishes?\",\n",
    "    \"5. Which recipes appear to be more popular based on the number of user reviews?\"\n",
    "]\n",
    "\n",
    "# Display the questions\n",
    "for q in questions:\n",
    "    print(q)"
   ]
  },
  {
   "cell_type": "markdown",
   "id": "b27ccbd7-1493-4b41-8e42-c26a3678f6b1",
   "metadata": {},
   "source": [
    "## Data Scraping Plan\n",
    "AllRecipes.com embeds recipe metadata using the `<script type=\"application/ld+json\">` tag in JSON-LD format. This structured data format provides consistent access to relevant recipe attributes.\n",
    "\n",
    "The scraping plan will focus on extracting the following fields:\n",
    "- Ingredients: Accessible via the \"recipeIngredient\" array\n",
    "- Preparation and Cook Times: Found in \"prepTime\" and \"cookTime\" (in ISO 8601 duration format)\n",
    "- User Ratings and Review Counts: Stored under the \"aggregateRating\" object\n",
    "- Nutritional Information: Contained in the \"nutrition\" object (e.g., \"calories\", \"fatContent\", \"proteinContent\", etc.)\n",
    "\n",
    "The URL format for recipe pages follows a consistent pattern:\n",
    "`https://www.allrecipes.com/recipe/<id>/<recipe-name>/`\n",
    "\n",
    "This predictable structure simplifies scraping and supports easy expansion of the dataset."
   ]
  },
  {
   "cell_type": "markdown",
   "id": "8655ce13-52a8-4dba-9a60-d0f44e895b33",
   "metadata": {},
   "source": [
    "## Ethical Considerations: Robots.txt Review\n",
    "Before starting web scraping, it is essential to ensure compliance with the website's terms of use.\n",
    "\n",
    "A review of AllRecipes.com’s robots.txt file shows:\n",
    "- No Disallow rules for the /recipe/ directory"
   ]
  },
  {
   "cell_type": "code",
   "execution_count": 11,
   "id": "7b90116f-4ae8-4d45-8ebc-95f1fde5dc17",
   "metadata": {},
   "outputs": [],
   "source": [
    "# URL of robots.txt file\n",
    "robots_txt_url = \"https://www.allrecipes.com/robots.txt\""
   ]
  },
  {
   "cell_type": "markdown",
   "id": "bad74c43-6ccd-44e1-b1fe-61905627ce1f",
   "metadata": {},
   "source": [
    "**Conclusion:** Scraping the selected recipe pages is permitted under AllRecipes.com's current policy."
   ]
  }
 ],
 "metadata": {
  "kernelspec": {
   "display_name": "Python [conda env:base] *",
   "language": "python",
   "name": "conda-base-py"
  },
  "language_info": {
   "codemirror_mode": {
    "name": "ipython",
    "version": 3
   },
   "file_extension": ".py",
   "mimetype": "text/x-python",
   "name": "python",
   "nbconvert_exporter": "python",
   "pygments_lexer": "ipython3",
   "version": "3.12.7"
  }
 },
 "nbformat": 4,
 "nbformat_minor": 5
}
